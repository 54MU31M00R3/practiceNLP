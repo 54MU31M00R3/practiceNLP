{
 "cells": [
  {
   "cell_type": "code",
   "execution_count": 1,
   "id": "bce865c1-8a4c-4a1b-8cdb-82aca0d37b45",
   "metadata": {},
   "outputs": [],
   "source": [
    "import spacy"
   ]
  },
  {
   "cell_type": "code",
   "execution_count": 2,
   "id": "1afbd4b0-48d6-484c-9230-c8c76be502ea",
   "metadata": {},
   "outputs": [],
   "source": [
    "nlp = spacy.load(\"en_core_web_sm\")"
   ]
  },
  {
   "cell_type": "code",
   "execution_count": 7,
   "id": "03e111d6-e638-4676-99f8-e1c9e261bf5b",
   "metadata": {},
   "outputs": [
    {
     "name": "stdout",
     "output_type": "stream",
     "text": [
      "Elon | PROPN | proper noun | NNP noun, proper singular\n",
      "flew | VERB | verb | VBD verb, past tense\n",
      "to | ADP | adposition | IN conjunction, subordinating or preposition\n",
      "mars | NOUN | noun | NNS noun, plural\n",
      "on | ADP | adposition | IN conjunction, subordinating or preposition\n",
      "Wednesday | PROPN | proper noun | NNP noun, proper singular\n",
      ". | PUNCT | punctuation | . punctuation mark, sentence closer\n",
      "He | PRON | pronoun | PRP pronoun, personal\n",
      "carried | VERB | verb | VBD verb, past tense\n",
      "a | DET | determiner | DT determiner\n",
      "banana | NOUN | noun | NN noun, singular or mass\n",
      "with | ADP | adposition | IN conjunction, subordinating or preposition\n",
      "him | PRON | pronoun | PRP pronoun, personal\n",
      ". | PUNCT | punctuation | . punctuation mark, sentence closer\n"
     ]
    }
   ],
   "source": [
    "text = \"Elon flew to mars on Wednesday. He carried a banana with him.\"\n",
    "\n",
    "doc = nlp(text)\n",
    "\n",
    "for token in doc:\n",
    "    print(token, \"|\", token.pos_, \"|\", spacy.explain(token.pos_),\n",
    "          \"|\", token.tag_, spacy.explain(token.tag_))"
   ]
  },
  {
   "cell_type": "code",
   "execution_count": 5,
   "id": "38edc09a-5849-4c36-8f83-0c46678a944b",
   "metadata": {},
   "outputs": [
    {
     "data": {
      "text/plain": [
       "['tok2vec', 'tagger', 'parser', 'attribute_ruler', 'lemmatizer', 'ner']"
      ]
     },
     "execution_count": 5,
     "metadata": {},
     "output_type": "execute_result"
    }
   ],
   "source": [
    "nlp.pipe_names"
   ]
  },
  {
   "cell_type": "code",
   "execution_count": 9,
   "id": "96818688-fe07-4df1-9618-e0b877a4db6c",
   "metadata": {},
   "outputs": [
    {
     "name": "stdout",
     "output_type": "stream",
     "text": [
      "quits | VBZ | verb, 3rd person singular present\n"
     ]
    }
   ],
   "source": [
    "doc = nlp(\"He quits the job\")\n",
    "\n",
    "print(doc[1].text, \"|\", doc[1].tag_, \"|\", spacy.explain(doc[1].tag_))"
   ]
  },
  {
   "cell_type": "code",
   "execution_count": 10,
   "id": "b160772e-69b7-44b2-af7e-4c3090c150aa",
   "metadata": {},
   "outputs": [],
   "source": [
    "text = \"\"\"Microsoft Corp. today announced the following results for the quarter ended March 31, 2024, as compared to the corresponding period of last fiscal year:\n",
    "·        Revenue was $61.9 billion and increased 17%\n",
    "·        Operating income was $27.6 billion and increased 23%\n",
    "·        Net income was $21.9 billion and increased 20%\n",
    "·        Diluted earnings per share was $2.94 and increased 20%\n",
    "“Microsoft Copilot and Copilot stack are orchestrating a new era of AI transformation, driving better business outcomes across every role and industry,\" said Satya Nadella, chairman and chief executive officer of Microsoft.\n",
    "“This quarter Microsoft Cloud revenue was $35.1 billion, up 23% year-over-year, driven by strong execution by our sales teams and partners,” said Amy Hood, executive vice president and chief financial officer of Microsoft.\"\"\"\n",
    "\n",
    "doc = nlp(text)"
   ]
  },
  {
   "cell_type": "code",
   "execution_count": 15,
   "id": "2088542e-5447-43b0-9799-59d63554dfe7",
   "metadata": {},
   "outputs": [],
   "source": [
    "filtered_tokens = []\n",
    "\n",
    "for token in doc:\n",
    "    if token.pos_ not in [\"SPACE\", \"X\", \"PUNCT\"]:\n",
    "        filtered_tokens.append(token)\n",
    "        # print(token, \"|\", token.pos_, \"|\", spacy.explain(token.pos_))"
   ]
  },
  {
   "cell_type": "code",
   "execution_count": 16,
   "id": "18e51cd2-9594-4714-b6bf-d3593b02b1fb",
   "metadata": {},
   "outputs": [
    {
     "data": {
      "text/plain": [
       "[Microsoft,\n",
       " Corp.,\n",
       " today,\n",
       " announced,\n",
       " the,\n",
       " following,\n",
       " results,\n",
       " for,\n",
       " the,\n",
       " quarter,\n",
       " ended,\n",
       " March,\n",
       " 31,\n",
       " 2024,\n",
       " as,\n",
       " compared,\n",
       " to,\n",
       " the,\n",
       " corresponding,\n",
       " period,\n",
       " of,\n",
       " last,\n",
       " fiscal,\n",
       " year,\n",
       " Revenue,\n",
       " was,\n",
       " $,\n",
       " 61.9,\n",
       " billion,\n",
       " and,\n",
       " increased,\n",
       " 17,\n",
       " %,\n",
       " Operating,\n",
       " income,\n",
       " was,\n",
       " $,\n",
       " 27.6,\n",
       " billion,\n",
       " and,\n",
       " increased,\n",
       " 23,\n",
       " %,\n",
       " Net,\n",
       " income,\n",
       " was,\n",
       " $,\n",
       " 21.9,\n",
       " billion,\n",
       " and,\n",
       " increased,\n",
       " 20,\n",
       " %,\n",
       " Diluted,\n",
       " earnings,\n",
       " per,\n",
       " share,\n",
       " was,\n",
       " $,\n",
       " 2.94,\n",
       " and,\n",
       " increased,\n",
       " 20,\n",
       " %,\n",
       " Microsoft,\n",
       " Copilot,\n",
       " and,\n",
       " Copilot,\n",
       " stack,\n",
       " are,\n",
       " orchestrating,\n",
       " a,\n",
       " new,\n",
       " era,\n",
       " of,\n",
       " AI,\n",
       " transformation,\n",
       " driving,\n",
       " better,\n",
       " business,\n",
       " outcomes,\n",
       " across,\n",
       " every,\n",
       " role,\n",
       " and,\n",
       " industry,\n",
       " said,\n",
       " Satya,\n",
       " Nadella,\n",
       " chairman,\n",
       " and,\n",
       " chief,\n",
       " executive,\n",
       " officer,\n",
       " of,\n",
       " Microsoft,\n",
       " This,\n",
       " quarter,\n",
       " Microsoft,\n",
       " Cloud,\n",
       " revenue,\n",
       " was,\n",
       " $,\n",
       " 35.1,\n",
       " billion,\n",
       " up,\n",
       " 23,\n",
       " %,\n",
       " year,\n",
       " over,\n",
       " year,\n",
       " driven,\n",
       " by,\n",
       " strong,\n",
       " execution,\n",
       " by,\n",
       " our,\n",
       " sales,\n",
       " teams,\n",
       " and,\n",
       " partners,\n",
       " said,\n",
       " Amy,\n",
       " Hood,\n",
       " executive,\n",
       " vice,\n",
       " president,\n",
       " and,\n",
       " chief,\n",
       " financial,\n",
       " officer,\n",
       " of,\n",
       " Microsoft]"
      ]
     },
     "execution_count": 16,
     "metadata": {},
     "output_type": "execute_result"
    }
   ],
   "source": [
    "filtered_tokens"
   ]
  },
  {
   "cell_type": "code",
   "execution_count": 21,
   "id": "df17682b-ecab-4b2a-9528-bf20b7ef3635",
   "metadata": {},
   "outputs": [
    {
     "data": {
      "text/plain": [
       "{96: 14,\n",
       " 92: 36,\n",
       " 100: 15,\n",
       " 90: 6,\n",
       " 85: 11,\n",
       " 93: 16,\n",
       " 97: 22,\n",
       " 98: 1,\n",
       " 84: 12,\n",
       " 103: 10,\n",
       " 87: 6,\n",
       " 99: 5,\n",
       " 89: 9,\n",
       " 86: 1,\n",
       " 95: 1}"
      ]
     },
     "execution_count": 21,
     "metadata": {},
     "output_type": "execute_result"
    }
   ],
   "source": [
    "count = doc.count_by(spacy.attrs.POS)\n",
    "count"
   ]
  },
  {
   "cell_type": "code",
   "execution_count": 22,
   "id": "20645d9b-9628-4b3d-b2e1-c8caa5a3ccdf",
   "metadata": {},
   "outputs": [
    {
     "data": {
      "text/plain": [
       "'PROPN'"
      ]
     },
     "execution_count": 22,
     "metadata": {},
     "output_type": "execute_result"
    }
   ],
   "source": [
    "doc.vocab[96].text"
   ]
  },
  {
   "cell_type": "code",
   "execution_count": 23,
   "id": "626aebcc-463d-4520-91f9-a6ef5a773c82",
   "metadata": {},
   "outputs": [
    {
     "name": "stdout",
     "output_type": "stream",
     "text": [
      "PROPN 14\n",
      "NOUN 36\n",
      "VERB 15\n",
      "DET 6\n",
      "ADP 11\n",
      "NUM 16\n",
      "PUNCT 22\n",
      "SCONJ 1\n",
      "ADJ 12\n",
      "SPACE 10\n",
      "AUX 6\n",
      "SYM 5\n",
      "CCONJ 9\n",
      "ADV 1\n",
      "PRON 1\n"
     ]
    }
   ],
   "source": [
    "for k, v in count.items():\n",
    "    print(doc.vocab[k].text, v)"
   ]
  },
  {
   "cell_type": "code",
   "execution_count": null,
   "id": "b17bec71-1ddc-4ee9-861c-065f736941ef",
   "metadata": {},
   "outputs": [],
   "source": []
  }
 ],
 "metadata": {
  "kernelspec": {
   "display_name": "Python 3 (ipykernel)",
   "language": "python",
   "name": "python3"
  },
  "language_info": {
   "codemirror_mode": {
    "name": "ipython",
    "version": 3
   },
   "file_extension": ".py",
   "mimetype": "text/x-python",
   "name": "python",
   "nbconvert_exporter": "python",
   "pygments_lexer": "ipython3",
   "version": "3.10.12"
  }
 },
 "nbformat": 4,
 "nbformat_minor": 5
}

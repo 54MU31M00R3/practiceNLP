{
 "cells": [
  {
   "cell_type": "code",
   "execution_count": 18,
   "id": "0bb8b5af-021f-43fb-ba77-cdcec6a92bb7",
   "metadata": {},
   "outputs": [],
   "source": [
    "import spacy\n",
    "nlp = spacy.load(\"en_core_web_sm\")"
   ]
  },
  {
   "cell_type": "code",
   "execution_count": 19,
   "id": "38a57b68-72ae-4011-972d-4ea98431f4d9",
   "metadata": {},
   "outputs": [],
   "source": [
    "text = '''\n",
    "Thor: Love and Thunder is a 2022 American superhero film based on Marvel Comics featuring the character Thor, produced by Marvel Studios and \n",
    "distributed by Walt Disney Studios Motion Pictures. It is the sequel to Thor: Ragnarok (2017) and the 29th film in the Marvel Cinematic Universe (MCU).\n",
    "The film is directed by Taika Waititi, who co-wrote the script with Jennifer Kaytin Robinson, and stars Chris Hemsworth as Thor alongside Christian Bale, Tessa Thompson,\n",
    "Jaimie Alexander, Waititi, Russell Crowe, and Natalie Portman. In the film, Thor attempts to find inner peace, but must return to action and recruit Valkyrie (Thompson),\n",
    "Korg (Waititi), and Jane Foster (Portman)—who is now the Mighty Thor—to stop Gorr the God Butcher (Bale) from eliminating all gods.\n",
    "'''"
   ]
  },
  {
   "cell_type": "code",
   "execution_count": 20,
   "id": "c0101889-6844-40c0-917e-bab45cd583d2",
   "metadata": {},
   "outputs": [],
   "source": [
    "doc = nlp(text)"
   ]
  },
  {
   "cell_type": "code",
   "execution_count": 21,
   "id": "caf3221c-fc30-4418-a9fc-21b6ab7c942d",
   "metadata": {},
   "outputs": [],
   "source": [
    "count = 0\n",
    "\n",
    "for token in doc:\n",
    "    if token.is_stop:\n",
    "        count = count + 1"
   ]
  },
  {
   "cell_type": "code",
   "execution_count": 22,
   "id": "5b8a5136-a945-43f3-a725-20bedb045945",
   "metadata": {},
   "outputs": [],
   "source": [
    "total = len(text)"
   ]
  },
  {
   "cell_type": "code",
   "execution_count": 23,
   "id": "207b779a-7fa6-4cb8-95f7-b057d8dd3e8f",
   "metadata": {},
   "outputs": [],
   "source": [
    "percentage = count/total"
   ]
  },
  {
   "cell_type": "code",
   "execution_count": 24,
   "id": "2c15c957-a161-4e1b-8b74-d1021c39e1de",
   "metadata": {},
   "outputs": [
    {
     "data": {
      "text/plain": [
       "0.05215123859191656"
      ]
     },
     "execution_count": 24,
     "metadata": {},
     "output_type": "execute_result"
    }
   ],
   "source": [
    "percentage"
   ]
  },
  {
   "cell_type": "code",
   "execution_count": 25,
   "id": "0b063db9-8a7a-4ba4-afd3-3262e3fb848a",
   "metadata": {},
   "outputs": [],
   "source": [
    "nlp.vocab[u\"not\"].is_stop = False"
   ]
  },
  {
   "cell_type": "code",
   "execution_count": 27,
   "id": "2d62278e-8fe8-4e76-aafe-3e032475720c",
   "metadata": {},
   "outputs": [],
   "source": [
    "def preprocess(text):\n",
    "    doc = nlp(text)\n",
    "    no_stop_words = [token.text for token in doc if not token.is_stop]\n",
    "    return \" \".join(no_stop_words)"
   ]
  },
  {
   "cell_type": "code",
   "execution_count": 28,
   "id": "30dabc78-1328-4b34-a7a6-6800d00c0ede",
   "metadata": {},
   "outputs": [],
   "source": [
    "good = \"this is a good movie\"\n",
    "bad = \"this is not a good movie\" "
   ]
  },
  {
   "cell_type": "code",
   "execution_count": 29,
   "id": "6ee69e63-1c20-490f-aded-a18814f636d6",
   "metadata": {},
   "outputs": [
    {
     "data": {
      "text/plain": [
       "'good movie'"
      ]
     },
     "execution_count": 29,
     "metadata": {},
     "output_type": "execute_result"
    }
   ],
   "source": [
    "preprocess(good)"
   ]
  },
  {
   "cell_type": "code",
   "execution_count": 30,
   "id": "abd9025e-7c4c-4302-b198-424c07ae8ad8",
   "metadata": {},
   "outputs": [
    {
     "data": {
      "text/plain": [
       "'not good movie'"
      ]
     },
     "execution_count": 30,
     "metadata": {},
     "output_type": "execute_result"
    }
   ],
   "source": [
    "preprocess(bad)"
   ]
  },
  {
   "cell_type": "code",
   "execution_count": 31,
   "id": "c6e9469c-0980-44bf-809b-972ab3ae4929",
   "metadata": {},
   "outputs": [],
   "source": [
    "text = ''' The India men's national cricket team, also known as Team India or the Men in Blue, represents India in men's international cricket.\n",
    "It is governed by the Board of Control for Cricket in India (BCCI), and is a Full Member of the International Cricket Council (ICC) with Test,\n",
    "One Day International (ODI) and Twenty20 International (T20I) status. Cricket was introduced to India by British sailors in the 18th century, and the \n",
    "first cricket club was established in 1792. India's national cricket team played its first Test match on 25 June 1932 at Lord's, becoming the sixth team to be\n",
    "granted test cricket status.\n",
    "'''"
   ]
  },
  {
   "cell_type": "code",
   "execution_count": 34,
   "id": "e8363c50-b83f-42db-96ab-e4a4623459b2",
   "metadata": {},
   "outputs": [],
   "source": [
    "def preprocess(text):\n",
    "    doc = nlp(text)\n",
    "    no_stop_words = [token.text for token in doc if not token.is_stop and not token.is_punct]\n",
    "    return \" \".join(no_stop_words)"
   ]
  },
  {
   "cell_type": "code",
   "execution_count": 35,
   "id": "eee6eff2-eb09-4ede-a7e5-a8ed24395b7c",
   "metadata": {},
   "outputs": [],
   "source": [
    "new_text = preprocess(text)"
   ]
  },
  {
   "cell_type": "code",
   "execution_count": 39,
   "id": "177e3cdd-4c8e-4233-8cd7-2732d2525665",
   "metadata": {},
   "outputs": [],
   "source": [
    "def find_most_common_token(text):\n",
    "    doc = nlp(text)\n",
    "    common_token = \" \"\n",
    "    common_count = 0\n",
    "    for token1 in doc:\n",
    "        count = 0\n",
    "        for token2 in doc:    \n",
    "            if token1.text == token2.text:\n",
    "                count = count + 1\n",
    "        if count > common_count:\n",
    "            common_token = token1.text\n",
    "            common_count = count\n",
    "    return common_token, common_count\n"
   ]
  },
  {
   "cell_type": "code",
   "execution_count": 40,
   "id": "5160f336-f872-4cce-a950-6e97f715251a",
   "metadata": {},
   "outputs": [],
   "source": [
    "common_token, common_count = find_most_common_token(new_text)"
   ]
  },
  {
   "cell_type": "code",
   "execution_count": 41,
   "id": "96ab85e2-a292-4364-a2fc-40ae12347f2d",
   "metadata": {},
   "outputs": [
    {
     "name": "stdout",
     "output_type": "stream",
     "text": [
      "India\n",
      "6\n"
     ]
    }
   ],
   "source": [
    "print(common_token)\n",
    "print(common_count)"
   ]
  },
  {
   "cell_type": "code",
   "execution_count": null,
   "id": "1bd9f46d-917f-43c2-826d-1967faf59e6b",
   "metadata": {},
   "outputs": [],
   "source": []
  }
 ],
 "metadata": {
  "kernelspec": {
   "display_name": "Python 3 (ipykernel)",
   "language": "python",
   "name": "python3"
  },
  "language_info": {
   "codemirror_mode": {
    "name": "ipython",
    "version": 3
   },
   "file_extension": ".py",
   "mimetype": "text/x-python",
   "name": "python",
   "nbconvert_exporter": "python",
   "pygments_lexer": "ipython3",
   "version": "3.10.12"
  }
 },
 "nbformat": 4,
 "nbformat_minor": 5
}

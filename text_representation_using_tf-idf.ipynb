{
 "cells": [
  {
   "cell_type": "code",
   "execution_count": 1,
   "id": "a7304bfe-4613-45bf-8505-11748772a44b",
   "metadata": {},
   "outputs": [],
   "source": [
    "from sklearn.feature_extraction.text import TfidfVectorizer"
   ]
  },
  {
   "cell_type": "code",
   "execution_count": 2,
   "id": "ad2d2d79-0986-4b7e-ad02-1a514c3fffe5",
   "metadata": {},
   "outputs": [],
   "source": [
    "corpus = [\n",
    "    \"The sky was a deep shade of blue, clouds scattered like cotton candy.\",\n",
    "    \"She walked through the forest, leaves crunching underfoot.\",\n",
    "    \"The coffee shop buzzed with the hum of conversations, the smell of freshly brewed coffee filling the air.\",\n",
    "    \"He sat at his desk, the glow of the computer screen illuminating his face.\",\n",
    "    \"The waves crashed against the shore, their rhythm soothing and constant.\"\n",
    "]"
   ]
  },
  {
   "cell_type": "code",
   "execution_count": 3,
   "id": "4ec0a131-74e5-4841-85bd-03cf89db765f",
   "metadata": {},
   "outputs": [],
   "source": [
    "v = TfidfVectorizer()\n",
    "transformed_output = v.fit_transform(corpus)"
   ]
  },
  {
   "cell_type": "code",
   "execution_count": 5,
   "id": "dd0bc864-ac59-4741-ac45-b01243aa0488",
   "metadata": {},
   "outputs": [
    {
     "name": "stdout",
     "output_type": "stream",
     "text": [
      "{'the': 41, 'sky': 38, 'was': 46, 'deep': 16, 'shade': 34, 'of': 29, 'blue': 4, 'clouds': 8, 'scattered': 32, 'like': 28, 'cotton': 13, 'candy': 7, 'she': 35, 'walked': 45, 'through': 43, 'forest': 20, 'leaves': 27, 'crunching': 15, 'underfoot': 44, 'coffee': 9, 'shop': 36, 'buzzed': 6, 'with': 48, 'hum': 25, 'conversations': 12, 'smell': 39, 'freshly': 21, 'brewed': 5, 'filling': 19, 'air': 1, 'he': 23, 'sat': 31, 'at': 3, 'his': 24, 'desk': 17, 'glow': 22, 'computer': 10, 'screen': 33, 'illuminating': 26, 'face': 18, 'waves': 47, 'crashed': 14, 'against': 0, 'shore': 37, 'their': 42, 'rhythm': 30, 'soothing': 40, 'and': 2, 'constant': 11}\n"
     ]
    }
   ],
   "source": [
    "print(v.vocabulary_)"
   ]
  },
  {
   "cell_type": "code",
   "execution_count": 10,
   "id": "b84b45ae-1ed8-4a93-bc99-43e7801277eb",
   "metadata": {},
   "outputs": [],
   "source": [
    "all_feature_names = v.get_feature_names_out()"
   ]
  },
  {
   "cell_type": "code",
   "execution_count": 11,
   "id": "2d1d13dc-ed2b-464b-977e-a5d489d0ee70",
   "metadata": {},
   "outputs": [
    {
     "name": "stdout",
     "output_type": "stream",
     "text": [
      "against 2.09861228866811\n",
      "air 2.09861228866811\n",
      "and 2.09861228866811\n",
      "at 2.09861228866811\n",
      "blue 2.09861228866811\n",
      "brewed 2.09861228866811\n",
      "buzzed 2.09861228866811\n",
      "candy 2.09861228866811\n",
      "clouds 2.09861228866811\n",
      "coffee 2.09861228866811\n",
      "computer 2.09861228866811\n",
      "constant 2.09861228866811\n",
      "conversations 2.09861228866811\n",
      "cotton 2.09861228866811\n",
      "crashed 2.09861228866811\n",
      "crunching 2.09861228866811\n",
      "deep 2.09861228866811\n",
      "desk 2.09861228866811\n",
      "face 2.09861228866811\n",
      "filling 2.09861228866811\n",
      "forest 2.09861228866811\n",
      "freshly 2.09861228866811\n",
      "glow 2.09861228866811\n",
      "he 2.09861228866811\n",
      "his 2.09861228866811\n",
      "hum 2.09861228866811\n",
      "illuminating 2.09861228866811\n",
      "leaves 2.09861228866811\n",
      "like 2.09861228866811\n",
      "of 1.4054651081081644\n",
      "rhythm 2.09861228866811\n",
      "sat 2.09861228866811\n",
      "scattered 2.09861228866811\n",
      "screen 2.09861228866811\n",
      "shade 2.09861228866811\n",
      "she 2.09861228866811\n",
      "shop 2.09861228866811\n",
      "shore 2.09861228866811\n",
      "sky 2.09861228866811\n",
      "smell 2.09861228866811\n",
      "soothing 2.09861228866811\n",
      "the 1.0\n",
      "their 2.09861228866811\n",
      "through 2.09861228866811\n",
      "underfoot 2.09861228866811\n",
      "walked 2.09861228866811\n",
      "was 2.09861228866811\n",
      "waves 2.09861228866811\n",
      "with 2.09861228866811\n"
     ]
    }
   ],
   "source": [
    "for word in all_feature_names:\n",
    "    index = v.vocabulary_.get(word)\n",
    "    print(f\"{word} {v.idf_[index]}\")"
   ]
  },
  {
   "cell_type": "code",
   "execution_count": 12,
   "id": "65b29bb2-bb3e-4c38-9905-9202f71f8b9f",
   "metadata": {},
   "outputs": [
    {
     "data": {
      "text/plain": [
       "['The sky was a deep shade of blue, clouds scattered like cotton candy.',\n",
       " 'She walked through the forest, leaves crunching underfoot.']"
      ]
     },
     "execution_count": 12,
     "metadata": {},
     "output_type": "execute_result"
    }
   ],
   "source": [
    "corpus[:2]"
   ]
  },
  {
   "cell_type": "code",
   "execution_count": 14,
   "id": "30733806-ebdc-4413-b485-fe210f9ec8bf",
   "metadata": {},
   "outputs": [
    {
     "data": {
      "text/plain": [
       "array([[0.        , 0.        , 0.        , 0.        , 0.3060585 ,\n",
       "        0.        , 0.        , 0.3060585 , 0.3060585 , 0.        ,\n",
       "        0.        , 0.        , 0.        , 0.3060585 , 0.        ,\n",
       "        0.        , 0.3060585 , 0.        , 0.        , 0.        ,\n",
       "        0.        , 0.        , 0.        , 0.        , 0.        ,\n",
       "        0.        , 0.        , 0.        , 0.3060585 , 0.20497094,\n",
       "        0.        , 0.        , 0.3060585 , 0.        , 0.3060585 ,\n",
       "        0.        , 0.        , 0.        , 0.3060585 , 0.        ,\n",
       "        0.        , 0.14583851, 0.        , 0.        , 0.        ,\n",
       "        0.        , 0.3060585 , 0.        , 0.        ],\n",
       "       [0.        , 0.        , 0.        , 0.        , 0.        ,\n",
       "        0.        , 0.        , 0.        , 0.        , 0.        ,\n",
       "        0.        , 0.        , 0.        , 0.        , 0.        ,\n",
       "        0.37197971, 0.        , 0.        , 0.        , 0.        ,\n",
       "        0.37197971, 0.        , 0.        , 0.        , 0.        ,\n",
       "        0.        , 0.        , 0.37197971, 0.        , 0.        ,\n",
       "        0.        , 0.        , 0.        , 0.        , 0.        ,\n",
       "        0.37197971, 0.        , 0.        , 0.        , 0.        ,\n",
       "        0.        , 0.17725032, 0.        , 0.37197971, 0.37197971,\n",
       "        0.37197971, 0.        , 0.        , 0.        ]])"
      ]
     },
     "execution_count": 14,
     "metadata": {},
     "output_type": "execute_result"
    }
   ],
   "source": [
    "transformed_output.toarray()[:2]"
   ]
  },
  {
   "cell_type": "code",
   "execution_count": 17,
   "id": "6fdabc43-13d7-4a70-8f9e-aa117dff02f6",
   "metadata": {},
   "outputs": [],
   "source": [
    "import pandas as pd"
   ]
  },
  {
   "cell_type": "code",
   "execution_count": 18,
   "id": "6b8791db-1dcd-4eb6-a78c-b66aa60b26c9",
   "metadata": {},
   "outputs": [],
   "source": [
    "df = pd.read_csv(\"Ecommerce_data.csv\")"
   ]
  },
  {
   "cell_type": "code",
   "execution_count": 19,
   "id": "a24e751b-5ebb-452d-8527-05102fd4778e",
   "metadata": {},
   "outputs": [
    {
     "data": {
      "text/plain": [
       "(24000, 2)"
      ]
     },
     "execution_count": 19,
     "metadata": {},
     "output_type": "execute_result"
    }
   ],
   "source": [
    "df.shape"
   ]
  },
  {
   "cell_type": "code",
   "execution_count": 20,
   "id": "a4cf1691-ba1c-4907-b0f8-cd644fd863d3",
   "metadata": {},
   "outputs": [
    {
     "data": {
      "text/html": [
       "<div>\n",
       "<style scoped>\n",
       "    .dataframe tbody tr th:only-of-type {\n",
       "        vertical-align: middle;\n",
       "    }\n",
       "\n",
       "    .dataframe tbody tr th {\n",
       "        vertical-align: top;\n",
       "    }\n",
       "\n",
       "    .dataframe thead th {\n",
       "        text-align: right;\n",
       "    }\n",
       "</style>\n",
       "<table border=\"1\" class=\"dataframe\">\n",
       "  <thead>\n",
       "    <tr style=\"text-align: right;\">\n",
       "      <th></th>\n",
       "      <th>Text</th>\n",
       "      <th>label</th>\n",
       "    </tr>\n",
       "  </thead>\n",
       "  <tbody>\n",
       "    <tr>\n",
       "      <th>0</th>\n",
       "      <td>Urban Ladder Eisner Low Back Study-Office Comp...</td>\n",
       "      <td>Household</td>\n",
       "    </tr>\n",
       "    <tr>\n",
       "      <th>1</th>\n",
       "      <td>Contrast living Wooden Decorative Box,Painted ...</td>\n",
       "      <td>Household</td>\n",
       "    </tr>\n",
       "    <tr>\n",
       "      <th>2</th>\n",
       "      <td>IO Crest SY-PCI40010 PCI RAID Host Controller ...</td>\n",
       "      <td>Electronics</td>\n",
       "    </tr>\n",
       "    <tr>\n",
       "      <th>3</th>\n",
       "      <td>ISAKAA Baby Socks from Just Born to 8 Years- P...</td>\n",
       "      <td>Clothing &amp; Accessories</td>\n",
       "    </tr>\n",
       "    <tr>\n",
       "      <th>4</th>\n",
       "      <td>Indira Designer Women's Art Mysore Silk Saree ...</td>\n",
       "      <td>Clothing &amp; Accessories</td>\n",
       "    </tr>\n",
       "  </tbody>\n",
       "</table>\n",
       "</div>"
      ],
      "text/plain": [
       "                                                Text                   label\n",
       "0  Urban Ladder Eisner Low Back Study-Office Comp...               Household\n",
       "1  Contrast living Wooden Decorative Box,Painted ...               Household\n",
       "2  IO Crest SY-PCI40010 PCI RAID Host Controller ...             Electronics\n",
       "3  ISAKAA Baby Socks from Just Born to 8 Years- P...  Clothing & Accessories\n",
       "4  Indira Designer Women's Art Mysore Silk Saree ...  Clothing & Accessories"
      ]
     },
     "execution_count": 20,
     "metadata": {},
     "output_type": "execute_result"
    }
   ],
   "source": [
    "df.head()"
   ]
  },
  {
   "cell_type": "code",
   "execution_count": 21,
   "id": "e5a5b100-b36a-47fb-8277-88e3b4fd037b",
   "metadata": {},
   "outputs": [
    {
     "data": {
      "text/plain": [
       "label\n",
       "Household                 6000\n",
       "Electronics               6000\n",
       "Clothing & Accessories    6000\n",
       "Books                     6000\n",
       "Name: count, dtype: int64"
      ]
     },
     "execution_count": 21,
     "metadata": {},
     "output_type": "execute_result"
    }
   ],
   "source": [
    "df.label.value_counts()"
   ]
  },
  {
   "cell_type": "code",
   "execution_count": 22,
   "id": "abd64195-ecaf-4d28-ad4f-7ce86560de6b",
   "metadata": {},
   "outputs": [],
   "source": [
    "df['label_num'] = df.label.map({\n",
    "                'Household':0,\n",
    "                'Books':1,\n",
    "                'Electronics': 2,\n",
    "                'Clothing & Accessories':3})"
   ]
  },
  {
   "cell_type": "code",
   "execution_count": 23,
   "id": "2cd0e7d8-8688-48a3-bb0d-bfbd066932a2",
   "metadata": {},
   "outputs": [
    {
     "data": {
      "text/html": [
       "<div>\n",
       "<style scoped>\n",
       "    .dataframe tbody tr th:only-of-type {\n",
       "        vertical-align: middle;\n",
       "    }\n",
       "\n",
       "    .dataframe tbody tr th {\n",
       "        vertical-align: top;\n",
       "    }\n",
       "\n",
       "    .dataframe thead th {\n",
       "        text-align: right;\n",
       "    }\n",
       "</style>\n",
       "<table border=\"1\" class=\"dataframe\">\n",
       "  <thead>\n",
       "    <tr style=\"text-align: right;\">\n",
       "      <th></th>\n",
       "      <th>Text</th>\n",
       "      <th>label</th>\n",
       "      <th>label_num</th>\n",
       "    </tr>\n",
       "  </thead>\n",
       "  <tbody>\n",
       "    <tr>\n",
       "      <th>0</th>\n",
       "      <td>Urban Ladder Eisner Low Back Study-Office Comp...</td>\n",
       "      <td>Household</td>\n",
       "      <td>0</td>\n",
       "    </tr>\n",
       "    <tr>\n",
       "      <th>1</th>\n",
       "      <td>Contrast living Wooden Decorative Box,Painted ...</td>\n",
       "      <td>Household</td>\n",
       "      <td>0</td>\n",
       "    </tr>\n",
       "    <tr>\n",
       "      <th>2</th>\n",
       "      <td>IO Crest SY-PCI40010 PCI RAID Host Controller ...</td>\n",
       "      <td>Electronics</td>\n",
       "      <td>2</td>\n",
       "    </tr>\n",
       "    <tr>\n",
       "      <th>3</th>\n",
       "      <td>ISAKAA Baby Socks from Just Born to 8 Years- P...</td>\n",
       "      <td>Clothing &amp; Accessories</td>\n",
       "      <td>3</td>\n",
       "    </tr>\n",
       "    <tr>\n",
       "      <th>4</th>\n",
       "      <td>Indira Designer Women's Art Mysore Silk Saree ...</td>\n",
       "      <td>Clothing &amp; Accessories</td>\n",
       "      <td>3</td>\n",
       "    </tr>\n",
       "  </tbody>\n",
       "</table>\n",
       "</div>"
      ],
      "text/plain": [
       "                                                Text                   label  \\\n",
       "0  Urban Ladder Eisner Low Back Study-Office Comp...               Household   \n",
       "1  Contrast living Wooden Decorative Box,Painted ...               Household   \n",
       "2  IO Crest SY-PCI40010 PCI RAID Host Controller ...             Electronics   \n",
       "3  ISAKAA Baby Socks from Just Born to 8 Years- P...  Clothing & Accessories   \n",
       "4  Indira Designer Women's Art Mysore Silk Saree ...  Clothing & Accessories   \n",
       "\n",
       "   label_num  \n",
       "0          0  \n",
       "1          0  \n",
       "2          2  \n",
       "3          3  \n",
       "4          3  "
      ]
     },
     "execution_count": 23,
     "metadata": {},
     "output_type": "execute_result"
    }
   ],
   "source": [
    "df.head()"
   ]
  },
  {
   "cell_type": "code",
   "execution_count": 24,
   "id": "673a5d6d-b81f-4dcf-b90d-dae3f1e65331",
   "metadata": {},
   "outputs": [],
   "source": [
    "from sklearn.model_selection import train_test_split"
   ]
  },
  {
   "cell_type": "code",
   "execution_count": 31,
   "id": "38d57a1d-b4ab-4e8a-9577-a84e5662d3ef",
   "metadata": {},
   "outputs": [],
   "source": [
    "X_train, X_test, y_train, y_test = train_test_split(df.Text, df.label_num,\n",
    "                                                   test_size=0.2, random_state=0,\n",
    "                                                   stratify=df.label_num)"
   ]
  },
  {
   "cell_type": "code",
   "execution_count": 27,
   "id": "82cfb5b0-db7d-4343-a8a7-179850e28d09",
   "metadata": {},
   "outputs": [
    {
     "data": {
      "text/plain": [
       "label_num\n",
       "2    4800\n",
       "1    4800\n",
       "3    4800\n",
       "0    4800\n",
       "Name: count, dtype: int64"
      ]
     },
     "execution_count": 27,
     "metadata": {},
     "output_type": "execute_result"
    }
   ],
   "source": [
    "y_train.value_counts()"
   ]
  },
  {
   "cell_type": "code",
   "execution_count": 40,
   "id": "617682aa-4419-4665-b533-943879897918",
   "metadata": {},
   "outputs": [],
   "source": [
    "from sklearn.neighbors import KNeighborsClassifier\n",
    "from sklearn.pipeline import Pipeline\n",
    "from sklearn.metrics import classification_report\n",
    "from sklearn.naive_bayes import MultinomialNB\n",
    "from sklearn.ensemble import RandomForestClassifier"
   ]
  },
  {
   "cell_type": "code",
   "execution_count": 32,
   "id": "31ad344b-e2ea-4d61-b67a-f0a80aef7920",
   "metadata": {},
   "outputs": [
    {
     "name": "stdout",
     "output_type": "stream",
     "text": [
      "              precision    recall  f1-score   support\n",
      "\n",
      "           0       0.95      0.95      0.95      1200\n",
      "           1       0.96      0.96      0.96      1200\n",
      "           2       0.97      0.97      0.97      1200\n",
      "           3       0.98      0.98      0.98      1200\n",
      "\n",
      "    accuracy                           0.96      4800\n",
      "   macro avg       0.96      0.96      0.96      4800\n",
      "weighted avg       0.96      0.96      0.96      4800\n",
      "\n"
     ]
    }
   ],
   "source": [
    "clf = Pipeline([\n",
    "    ('vectorizer_tfidf', TfidfVectorizer()),\n",
    "    ('KNN', KNeighborsClassifier())\n",
    "])\n",
    "\n",
    "clf.fit(X_train, y_train)\n",
    "y_pred = clf.predict(X_test)\n",
    "\n",
    "print(classification_report(y_test, y_pred))"
   ]
  },
  {
   "cell_type": "code",
   "execution_count": 33,
   "id": "bded3a86-2a25-47c0-853c-12e1423a69f1",
   "metadata": {},
   "outputs": [
    {
     "data": {
      "text/plain": [
       "2976     Amazon Brand - Symbol Men's Checkered Regular ...\n",
       "3014     Orient Electric 1200mm 70 W Wendy Pearl Ceilin...\n",
       "5198     Reasoning Book for Nursing Entrance Exams-B.Sc...\n",
       "20153    Xs and Os Women Pearl Design Panty Thong Pearl...\n",
       "23382    Gillette Classic Sensitive Skin Pre Shave Foam...\n",
       "Name: Text, dtype: object"
      ]
     },
     "execution_count": 33,
     "metadata": {},
     "output_type": "execute_result"
    }
   ],
   "source": [
    "X_test[:5]"
   ]
  },
  {
   "cell_type": "code",
   "execution_count": 37,
   "id": "0555ecba-83cf-4051-8230-f262e615a049",
   "metadata": {},
   "outputs": [
    {
     "data": {
      "text/plain": [
       "'Orient Electric 1200mm 70 W Wendy Pearl Ceiling Fan without Remote, White Walnut Orient Wendy Ceiling Fan 70 Watts Power Consumption best decorative fan in India.'"
      ]
     },
     "execution_count": 37,
     "metadata": {},
     "output_type": "execute_result"
    }
   ],
   "source": [
    "X_test[:5][3014]"
   ]
  },
  {
   "cell_type": "code",
   "execution_count": 34,
   "id": "de3cce60-8d3b-4c6b-b3bb-8da4625c9b25",
   "metadata": {},
   "outputs": [
    {
     "data": {
      "text/plain": [
       "2976     3\n",
       "3014     0\n",
       "5198     1\n",
       "20153    3\n",
       "23382    0\n",
       "Name: label_num, dtype: int64"
      ]
     },
     "execution_count": 34,
     "metadata": {},
     "output_type": "execute_result"
    }
   ],
   "source": [
    "y_test[:5]"
   ]
  },
  {
   "cell_type": "code",
   "execution_count": 35,
   "id": "cfb01747-95f8-4d4e-a9d1-1f90463acde1",
   "metadata": {},
   "outputs": [
    {
     "data": {
      "text/plain": [
       "array([3, 0, 1, 3, 0])"
      ]
     },
     "execution_count": 35,
     "metadata": {},
     "output_type": "execute_result"
    }
   ],
   "source": [
    "y_pred[:5]"
   ]
  },
  {
   "cell_type": "code",
   "execution_count": 39,
   "id": "c7d4f038-e93d-419b-a883-f8c332e25d92",
   "metadata": {},
   "outputs": [
    {
     "name": "stdout",
     "output_type": "stream",
     "text": [
      "              precision    recall  f1-score   support\n",
      "\n",
      "           0       0.92      0.96      0.94      1200\n",
      "           1       0.98      0.93      0.96      1200\n",
      "           2       0.97      0.97      0.97      1200\n",
      "           3       0.98      0.98      0.98      1200\n",
      "\n",
      "    accuracy                           0.96      4800\n",
      "   macro avg       0.96      0.96      0.96      4800\n",
      "weighted avg       0.96      0.96      0.96      4800\n",
      "\n"
     ]
    }
   ],
   "source": [
    "clf = Pipeline([\n",
    "    ('vectorizer_tfidf', TfidfVectorizer()),\n",
    "    ('Multi_NB', MultinomialNB())\n",
    "])\n",
    "\n",
    "clf.fit(X_train, y_train)\n",
    "y_pred = clf.predict(X_test)\n",
    "\n",
    "print(classification_report(y_test, y_pred))"
   ]
  },
  {
   "cell_type": "code",
   "execution_count": 41,
   "id": "4a8439e3-1cc4-4b9d-8b25-e6f9175046fa",
   "metadata": {},
   "outputs": [
    {
     "name": "stdout",
     "output_type": "stream",
     "text": [
      "              precision    recall  f1-score   support\n",
      "\n",
      "           0       0.97      0.97      0.97      1200\n",
      "           1       0.97      0.98      0.97      1200\n",
      "           2       0.98      0.97      0.98      1200\n",
      "           3       0.98      0.98      0.98      1200\n",
      "\n",
      "    accuracy                           0.97      4800\n",
      "   macro avg       0.97      0.97      0.97      4800\n",
      "weighted avg       0.97      0.97      0.97      4800\n",
      "\n"
     ]
    }
   ],
   "source": [
    "clf = Pipeline([\n",
    "    ('vectorizer_tfidf', TfidfVectorizer()),\n",
    "    ('random_forest', RandomForestClassifier())\n",
    "])\n",
    "\n",
    "clf.fit(X_train, y_train)\n",
    "y_pred = clf.predict(X_test)\n",
    "\n",
    "print(classification_report(y_test, y_pred))"
   ]
  },
  {
   "cell_type": "code",
   "execution_count": 42,
   "id": "07dc7dae-ddf9-467f-b84c-77d23be85d84",
   "metadata": {},
   "outputs": [],
   "source": [
    "import spacy"
   ]
  },
  {
   "cell_type": "code",
   "execution_count": 43,
   "id": "cb14a904-3491-42c9-98c2-5098bed6ba2c",
   "metadata": {},
   "outputs": [],
   "source": [
    "nlp = spacy.load(\"en_core_web_sm\")"
   ]
  },
  {
   "cell_type": "code",
   "execution_count": 45,
   "id": "5f45f10c-be18-4065-898a-7064a7df461e",
   "metadata": {},
   "outputs": [],
   "source": [
    "def preprocess(text):\n",
    "    doc = nlp(text)\n",
    "    filtered_tokens = []\n",
    "    for token in doc:\n",
    "        if token.is_stop or token.is_punct:\n",
    "            continue\n",
    "        filtered_tokens.append(token.lemma_)\n",
    "    return \" \".join(filtered_tokens)"
   ]
  },
  {
   "cell_type": "code",
   "execution_count": 46,
   "id": "22c65cc1-b11c-441b-bf45-6802862c83e0",
   "metadata": {},
   "outputs": [],
   "source": [
    "df['preprocessed_txt'] = df.Text.apply(preprocess)"
   ]
  },
  {
   "cell_type": "code",
   "execution_count": 47,
   "id": "eb0a7e86-32b9-4591-af00-932155b645a2",
   "metadata": {},
   "outputs": [],
   "source": [
    "X_train, X_test, y_train, y_test = train_test_split(df.preprocessed_txt, df.label_num,\n",
    "                                                   test_size=0.2, random_state=0,\n",
    "                                                   stratify=df.label_num)"
   ]
  },
  {
   "cell_type": "code",
   "execution_count": null,
   "id": "aabc2e9e-938c-4292-9201-3e956b8bad88",
   "metadata": {},
   "outputs": [],
   "source": [
    "clf = Pipeline([\n",
    "    ('vectorizer_tfidf', TfidfVectorizer()),\n",
    "    ('random_forest', RandomForestClassifier())\n",
    "])\n",
    "\n",
    "clf.fit(X_train, y_train)\n",
    "y_pred = clf.predict(X_test)\n",
    "\n",
    "print(classification_report(y_test, y_pred))"
   ]
  }
 ],
 "metadata": {
  "kernelspec": {
   "display_name": "Python 3 (ipykernel)",
   "language": "python",
   "name": "python3"
  },
  "language_info": {
   "codemirror_mode": {
    "name": "ipython",
    "version": 3
   },
   "file_extension": ".py",
   "mimetype": "text/x-python",
   "name": "python",
   "nbconvert_exporter": "python",
   "pygments_lexer": "ipython3",
   "version": "3.10.12"
  }
 },
 "nbformat": 4,
 "nbformat_minor": 5
}

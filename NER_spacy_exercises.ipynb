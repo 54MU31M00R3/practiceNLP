{
 "cells": [
  {
   "cell_type": "code",
   "execution_count": 1,
   "id": "e7e90e7a-a3b7-48bd-ad39-ac130dbaf086",
   "metadata": {},
   "outputs": [],
   "source": [
    "import spacy"
   ]
  },
  {
   "cell_type": "code",
   "execution_count": 2,
   "id": "8c8eb5b1-c865-4c82-9899-4133cb528e3a",
   "metadata": {},
   "outputs": [],
   "source": [
    "nlp = spacy.load(\"en_core_web_sm\")"
   ]
  },
  {
   "cell_type": "code",
   "execution_count": 3,
   "id": "1c0d35ee-b198-4c8d-9deb-8b3641192ccf",
   "metadata": {},
   "outputs": [],
   "source": [
    "text = \"\"\"Kiran want to know the famous foods in each state of India. So, he opened Google and search for this question. Google showed that\n",
    "in Delhi it is Chaat, in Gujarat it is Dal Dhokli, in Tamilnadu it is Pongal, in Andhrapradesh it is Biryani, in Assam it is Papaya Khar,\n",
    "in Bihar it is Litti Chowkha and so on for all other states\"\"\"\n",
    "\n",
    "doc = nlp(text)"
   ]
  },
  {
   "cell_type": "code",
   "execution_count": 18,
   "id": "de97be86-467c-4745-97f0-ac910da539e7",
   "metadata": {},
   "outputs": [
    {
     "name": "stdout",
     "output_type": "stream",
     "text": [
      "Kiran | 0 | ORG | Companies, agencies, institutions, etc.\n",
      "India | 11 | GPE | Countries, cities, states\n",
      "Google | 17 | ORG | Companies, agencies, institutions, etc.\n",
      "Google | 24 | ORG | Companies, agencies, institutions, etc.\n",
      "Google | 17 | ORG | Companies, agencies, institutions, etc.\n",
      "Google | 24 | ORG | Companies, agencies, institutions, etc.\n",
      "Delhi | 29 | GPE | Countries, cities, states\n",
      "Chaat | 32 | ORG | Companies, agencies, institutions, etc.\n",
      "Gujarat | 35 | GPE | Countries, cities, states\n",
      "Tamilnadu | 42 | GPE | Countries, cities, states\n",
      "Pongal | 45 | GPE | Countries, cities, states\n",
      "Andhrapradesh | 48 | GPE | Countries, cities, states\n",
      "Biryani | 51 | PERSON | People, including fictional\n",
      "Assam | 54 | GPE | Countries, cities, states\n",
      "Bihar | 62 | GPE | Countries, cities, states\n"
     ]
    }
   ],
   "source": [
    "for ent in doc.ents:\n",
    "    for token in doc:\n",
    "        if ent.text == token.text:\n",
    "            print(ent.text, \"|\", token.i , \"|\", ent.label_, \"|\", spacy.explain(ent.label_))"
   ]
  },
  {
   "cell_type": "code",
   "execution_count": 20,
   "id": "b60e7248-88d5-4b8d-bfea-5c0eb36c138c",
   "metadata": {},
   "outputs": [],
   "source": [
    "location_names = []\n",
    "count = 0\n",
    "\n",
    "for ent in doc.ents:\n",
    "    if ent.label_ == \"GPE\":\n",
    "        location_names.append(ent.text)\n",
    "        count = count + 1"
   ]
  },
  {
   "cell_type": "code",
   "execution_count": 21,
   "id": "fa2dab2d-f9dd-44f1-9715-2b348f6a89d3",
   "metadata": {},
   "outputs": [
    {
     "name": "stdout",
     "output_type": "stream",
     "text": [
      "Geographical location names:  ['India', 'Delhi', 'Gujarat', 'Tamilnadu', 'Andhrapradesh', 'Assam', 'Bihar']\n",
      "Count:  7\n"
     ]
    }
   ],
   "source": [
    "print(\"Geographical location names: \", location_names)\n",
    "print(\"Count: \", count)"
   ]
  },
  {
   "cell_type": "code",
   "execution_count": 19,
   "id": "b89f6703-15f2-426b-965e-37d301c262b8",
   "metadata": {},
   "outputs": [],
   "source": [
    "from spacy.tokens import Span \n",
    "\n",
    "s1 = Span(doc, 45, 46, label=\"FOOD\")\n",
    "\n",
    "doc.set_ents([s1], default=\"unmodified\")"
   ]
  },
  {
   "cell_type": "code",
   "execution_count": 22,
   "id": "5076a4e9-2f56-42e1-8048-bf692947941b",
   "metadata": {},
   "outputs": [],
   "source": [
    "text = \"\"\"Sachin Tendulkar was born on 24 April 1973, Virat Kholi was born on 5 November 1988, Dhoni was born on 7 July 1981\n",
    "and finally Ricky ponting was born on 19 December 1974.\"\"\"\n",
    "\n",
    "doc = nlp(text)"
   ]
  },
  {
   "cell_type": "code",
   "execution_count": 24,
   "id": "c06ae5fa-c03e-4026-bd08-97f30edfd847",
   "metadata": {},
   "outputs": [
    {
     "name": "stdout",
     "output_type": "stream",
     "text": [
      "Sachin Tendulkar | PERSON\n",
      "24 April 1973 | DATE\n",
      "Virat Kholi | LOC\n",
      "5 November 1988 | DATE\n",
      "Dhoni | PERSON\n",
      "7 July 1981 | DATE\n",
      "Ricky | PERSON\n",
      "19 December 1974 | DATE\n"
     ]
    }
   ],
   "source": [
    "for ent in doc.ents:\n",
    "    print(ent.text, \"|\", ent.label_)"
   ]
  },
  {
   "cell_type": "code",
   "execution_count": null,
   "id": "16318081-7eb7-4d94-bbbe-8f2abb83f105",
   "metadata": {},
   "outputs": [],
   "source": []
  }
 ],
 "metadata": {
  "kernelspec": {
   "display_name": "Python 3 (ipykernel)",
   "language": "python",
   "name": "python3"
  },
  "language_info": {
   "codemirror_mode": {
    "name": "ipython",
    "version": 3
   },
   "file_extension": ".py",
   "mimetype": "text/x-python",
   "name": "python",
   "nbconvert_exporter": "python",
   "pygments_lexer": "ipython3",
   "version": "3.10.12"
  }
 },
 "nbformat": 4,
 "nbformat_minor": 5
}

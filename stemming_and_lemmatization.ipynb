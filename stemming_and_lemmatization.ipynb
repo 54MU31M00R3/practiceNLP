{
 "cells": [
  {
   "cell_type": "code",
   "execution_count": 1,
   "id": "7d41ea93-11a7-4429-b2c4-66764b4a51ab",
   "metadata": {},
   "outputs": [],
   "source": [
    "import nltk\n",
    "import spacy"
   ]
  },
  {
   "cell_type": "code",
   "execution_count": 2,
   "id": "a2763e85-3922-4072-9ecb-2735453b7af8",
   "metadata": {},
   "outputs": [],
   "source": [
    "from nltk.stem import PorterStemmer\n",
    "\n",
    "stemmer = PorterStemmer()"
   ]
  },
  {
   "cell_type": "code",
   "execution_count": 14,
   "id": "5c53e0ed-4f8f-43e4-b316-4c14a6940bfc",
   "metadata": {},
   "outputs": [],
   "source": [
    "words = [\"flying\", \"buys\", \"bought\", \"seeing\", \"immutable\", \"fertility\", \"better\"]"
   ]
  },
  {
   "cell_type": "code",
   "execution_count": 15,
   "id": "94aa3a6a-b861-46aa-aca5-c99a9fbf79ff",
   "metadata": {},
   "outputs": [
    {
     "name": "stdout",
     "output_type": "stream",
     "text": [
      "flying | fli\n",
      "buys | buy\n",
      "bought | bought\n",
      "seeing | see\n",
      "immutable | immut\n",
      "fertility | fertil\n",
      "better | better\n"
     ]
    }
   ],
   "source": [
    "for word in words:\n",
    "    print(word, \"|\", stemmer.stem(word))"
   ]
  },
  {
   "cell_type": "code",
   "execution_count": 5,
   "id": "8ea3d532-67f1-4262-9d71-5629f3a69dd7",
   "metadata": {},
   "outputs": [],
   "source": [
    "nlp = spacy.load(\"en_core_web_sm\")"
   ]
  },
  {
   "cell_type": "code",
   "execution_count": 16,
   "id": "6bc69a7a-d486-40e8-bd4e-4063760f6d19",
   "metadata": {},
   "outputs": [],
   "source": [
    "words_joined = ' '.join(words)"
   ]
  },
  {
   "cell_type": "code",
   "execution_count": 17,
   "id": "b30860eb-b5c3-40a0-8784-2bc8fefdfee8",
   "metadata": {},
   "outputs": [],
   "source": [
    "doc = nlp(words_joined)"
   ]
  },
  {
   "cell_type": "code",
   "execution_count": 19,
   "id": "cf43ad55-e5c5-40a6-bbfd-1d01d283d0b8",
   "metadata": {},
   "outputs": [
    {
     "name": "stdout",
     "output_type": "stream",
     "text": [
      "flying | fly | 1551516756674911027\n",
      "buys | buy | 9457496526477982497\n",
      "bought | buy | 9457496526477982497\n",
      "seeing | see | 11925638236994514241\n",
      "immutable | immutable | 1479667963148625400\n",
      "fertility | fertility | 18189475320914381094\n",
      "better | well | 4525988469032889948\n"
     ]
    }
   ],
   "source": [
    "for token in doc:\n",
    "    print(token, \"|\", token.lemma_, \"|\", token.lemma)"
   ]
  },
  {
   "cell_type": "code",
   "execution_count": 20,
   "id": "80b6f2c6-88f7-4e00-ace7-cb673e416690",
   "metadata": {},
   "outputs": [],
   "source": [
    "text = \"Darth Vader smells like cheese from 12pm to 8pm.\""
   ]
  },
  {
   "cell_type": "code",
   "execution_count": 21,
   "id": "fbd85731-4708-4522-b59e-c786c69f3cf2",
   "metadata": {},
   "outputs": [],
   "source": [
    "doc = nlp(text)"
   ]
  },
  {
   "cell_type": "code",
   "execution_count": 22,
   "id": "0606d551-767d-49ff-b635-aa3666379965",
   "metadata": {},
   "outputs": [
    {
     "name": "stdout",
     "output_type": "stream",
     "text": [
      "Darth | Darth | 7146682890488689085\n",
      "Vader | Vader | 11639650152442142096\n",
      "smells | smell | 16653236935228863448\n",
      "like | like | 18194338103975822726\n",
      "cheese | cheese | 17479476687133065248\n",
      "from | from | 7831658034963690409\n",
      "12 | 12 | 1124146173557384544\n",
      "pm | pm | 10701989183306053849\n",
      "to | to | 3791531372978436496\n",
      "8 | 8 | 5117079446564601502\n",
      "pm | pm | 10701989183306053849\n",
      ". | . | 12646065887601541794\n"
     ]
    }
   ],
   "source": [
    "for token in doc:\n",
    "    print(token, \"|\", token.lemma_, \"|\", token.lemma)"
   ]
  },
  {
   "cell_type": "code",
   "execution_count": 23,
   "id": "4e775dd0-3979-45cb-a904-cbb55b9a29a8",
   "metadata": {},
   "outputs": [
    {
     "data": {
      "text/plain": [
       "['tok2vec', 'tagger', 'parser', 'attribute_ruler', 'lemmatizer', 'ner']"
      ]
     },
     "execution_count": 23,
     "metadata": {},
     "output_type": "execute_result"
    }
   ],
   "source": [
    "nlp.pipe_names"
   ]
  },
  {
   "cell_type": "code",
   "execution_count": 24,
   "id": "60753745-e623-404f-9e12-0aef542a30ac",
   "metadata": {},
   "outputs": [],
   "source": [
    "text = \"Bro, you wanna go? Brah, don't say no! Broski.\""
   ]
  },
  {
   "cell_type": "code",
   "execution_count": 25,
   "id": "c598ec68-bd5b-4df8-834c-cafd4e7fc458",
   "metadata": {},
   "outputs": [],
   "source": [
    "doc = nlp(text)"
   ]
  },
  {
   "cell_type": "code",
   "execution_count": 26,
   "id": "2f3f3c42-7125-4117-960c-2fc91b6ef5ba",
   "metadata": {},
   "outputs": [
    {
     "name": "stdout",
     "output_type": "stream",
     "text": [
      "Bro | bro | 3493238095688267532\n",
      ", | , | 2593208677638477497\n",
      "you | you | 7624161793554793053\n",
      "wanna | wanna | 13000462173222681081\n",
      "go | go | 8004577259940138793\n",
      "? | ? | 8205403955989537350\n",
      "Brah | Brah | 5645766505577852541\n",
      ", | , | 2593208677638477497\n",
      "do | do | 2158845516055552166\n",
      "n't | not | 447765159362469301\n",
      "say | say | 8685289367999165211\n",
      "no | no | 13055779130471031426\n",
      "! | ! | 17494803046312582752\n",
      "Broski | Broski | 1421520329921469933\n",
      ". | . | 12646065887601541794\n"
     ]
    }
   ],
   "source": [
    "for token in doc:\n",
    "    print(token, \"|\", token.lemma_, \"|\", token.lemma)"
   ]
  },
  {
   "cell_type": "code",
   "execution_count": 31,
   "id": "4c7b9ee9-4a0b-4d63-9758-b96f8b8b236c",
   "metadata": {},
   "outputs": [],
   "source": [
    "ar = nlp.get_pipe(\"attribute_ruler\")\n",
    "\n",
    "ar.add([[{\"TEXT\":\"Bro\"}],[{\"TEXT\":\"Brah\"}], [{\"TEXT\":\"Broski\"}]], {\"LEMMA\":\"Brother\"})"
   ]
  },
  {
   "cell_type": "code",
   "execution_count": 32,
   "id": "2a7c96d0-bf61-45b3-a8b8-16cbcb11044a",
   "metadata": {},
   "outputs": [
    {
     "name": "stdout",
     "output_type": "stream",
     "text": [
      "Bro | Brother | 4347558510128575363\n",
      ", | , | 2593208677638477497\n",
      "you | you | 7624161793554793053\n",
      "wanna | wanna | 13000462173222681081\n",
      "go | go | 8004577259940138793\n",
      "? | ? | 8205403955989537350\n",
      "Brah | Brother | 4347558510128575363\n",
      ", | , | 2593208677638477497\n",
      "do | do | 2158845516055552166\n",
      "n't | not | 447765159362469301\n",
      "say | say | 8685289367999165211\n",
      "no | no | 13055779130471031426\n",
      "! | ! | 17494803046312582752\n",
      "Broski | Brother | 4347558510128575363\n",
      ". | . | 12646065887601541794\n"
     ]
    }
   ],
   "source": [
    "doc = nlp(text)\n",
    "\n",
    "for token in doc:\n",
    "    print(token, \"|\", token.lemma_, \"|\", token.lemma)"
   ]
  },
  {
   "cell_type": "code",
   "execution_count": null,
   "id": "5430edd1-9440-4849-896d-d0b4ea9fe917",
   "metadata": {},
   "outputs": [],
   "source": []
  }
 ],
 "metadata": {
  "kernelspec": {
   "display_name": "Python 3 (ipykernel)",
   "language": "python",
   "name": "python3"
  },
  "language_info": {
   "codemirror_mode": {
    "name": "ipython",
    "version": 3
   },
   "file_extension": ".py",
   "mimetype": "text/x-python",
   "name": "python",
   "nbconvert_exporter": "python",
   "pygments_lexer": "ipython3",
   "version": "3.10.12"
  }
 },
 "nbformat": 4,
 "nbformat_minor": 5
}

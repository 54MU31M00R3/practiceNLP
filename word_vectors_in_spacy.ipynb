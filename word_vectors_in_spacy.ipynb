{
 "cells": [
  {
   "cell_type": "code",
   "execution_count": 1,
   "id": "03533b3c-2284-4210-b425-ddf9dfbda732",
   "metadata": {},
   "outputs": [],
   "source": [
    "import spacy"
   ]
  },
  {
   "cell_type": "code",
   "execution_count": 3,
   "id": "4b2f8ae8-d015-45b2-8a61-2651dc1b8cf5",
   "metadata": {},
   "outputs": [],
   "source": [
    "nlp = spacy.load(\"en_core_web_lg\")"
   ]
  },
  {
   "cell_type": "code",
   "execution_count": 5,
   "id": "6fea2733-abb6-4eb9-bbff-637083b6bfb5",
   "metadata": {},
   "outputs": [],
   "source": [
    "doc = nlp(\"chicken pizza pineapple asdaiwd\")"
   ]
  },
  {
   "cell_type": "code",
   "execution_count": 6,
   "id": "13691e99-972e-4a4d-8f7f-5314c2844943",
   "metadata": {},
   "outputs": [
    {
     "name": "stdout",
     "output_type": "stream",
     "text": [
      "chicken True OOV:  False\n",
      "pizza True OOV:  False\n",
      "pineapple True OOV:  False\n",
      "asdaiwd False OOV:  True\n"
     ]
    }
   ],
   "source": [
    "for token in doc:\n",
    "    print(token.text, token.has_vector, \"OOV: \", token.is_oov)"
   ]
  },
  {
   "cell_type": "code",
   "execution_count": 9,
   "id": "28c4fadd-a9dd-4f06-a1a8-8641c9b1d650",
   "metadata": {},
   "outputs": [
    {
     "data": {
      "text/plain": [
       "(300,)"
      ]
     },
     "execution_count": 9,
     "metadata": {},
     "output_type": "execute_result"
    }
   ],
   "source": [
    "doc[0].vector.shape"
   ]
  },
  {
   "cell_type": "code",
   "execution_count": 10,
   "id": "1920798a-b03d-4e52-b9ba-ce7135a24538",
   "metadata": {},
   "outputs": [],
   "source": [
    "base_token = nlp(\"bread\")"
   ]
  },
  {
   "cell_type": "code",
   "execution_count": 11,
   "id": "098974fa-5234-47e9-acaf-9584144cfc9c",
   "metadata": {},
   "outputs": [
    {
     "data": {
      "text/plain": [
       "(300,)"
      ]
     },
     "execution_count": 11,
     "metadata": {},
     "output_type": "execute_result"
    }
   ],
   "source": [
    "base_token[0].vector.shape"
   ]
  },
  {
   "cell_type": "code",
   "execution_count": 14,
   "id": "e41335bd-34c6-47e6-bb18-e76855b95f09",
   "metadata": {},
   "outputs": [],
   "source": [
    "doc = nlp(\"bread sandwich burger car\")"
   ]
  },
  {
   "cell_type": "code",
   "execution_count": 15,
   "id": "07e7ca4c-3e8d-4f19-8128-52b0e0d81472",
   "metadata": {},
   "outputs": [
    {
     "name": "stdout",
     "output_type": "stream",
     "text": [
      "bread <-> bread 0.9999999744752309\n",
      "sandwich <-> bread 0.6341067010130894\n",
      "burger <-> bread 0.47520687769584247\n",
      "car <-> bread 0.06451533308853552\n"
     ]
    }
   ],
   "source": [
    "for token in doc:\n",
    "    print(f\"{token.text} <-> {base_token.text}\", token.similarity(base_token))"
   ]
  },
  {
   "cell_type": "code",
   "execution_count": 16,
   "id": "8b4582a1-1121-4e07-8d59-98ba68f0157c",
   "metadata": {},
   "outputs": [],
   "source": [
    "def print_similarity(base_word, words_to_compare):\n",
    "    base_token = nlp(base_word)\n",
    "    doc = nlp(words_to_compare)\n",
    "    for token in doc:\n",
    "        print(f\"{token.text} <-> {base_token.text}: \", token.similarity(base_token))"
   ]
  },
  {
   "cell_type": "code",
   "execution_count": 17,
   "id": "22e327ef-e095-4816-9785-24f403d75521",
   "metadata": {},
   "outputs": [
    {
     "name": "stdout",
     "output_type": "stream",
     "text": [
      "nokia <-> iphone:  0.636268250170249\n",
      "google <-> iphone:  0.5099434278562384\n",
      "chicken <-> iphone:  0.11203460925732109\n",
      "iphone <-> iphone:  1.000000072144752\n"
     ]
    }
   ],
   "source": [
    "print_similarity(\"iphone\", \"nokia google chicken iphone\")"
   ]
  },
  {
   "cell_type": "code",
   "execution_count": 18,
   "id": "51708522-a286-4712-8090-2bca0d317cf5",
   "metadata": {},
   "outputs": [],
   "source": [
    "king = nlp.vocab[\"king\"].vector\n",
    "man = nlp.vocab[\"man\"].vector\n",
    "woman = nlp.vocab[\"woman\"].vector\n",
    "queen = nlp.vocab[\"queen\"].vector\n",
    "\n",
    "result = king - man + woman"
   ]
  },
  {
   "cell_type": "code",
   "execution_count": 19,
   "id": "1ed1f426-2861-4c1f-b583-72de3aca9fa4",
   "metadata": {},
   "outputs": [],
   "source": [
    "from sklearn.metrics.pairwise import cosine_similarity"
   ]
  },
  {
   "cell_type": "code",
   "execution_count": 20,
   "id": "6915eb82-4c5f-4e4d-861a-34403a52c0dd",
   "metadata": {},
   "outputs": [
    {
     "data": {
      "text/plain": [
       "array([[0.61780137]], dtype=float32)"
      ]
     },
     "execution_count": 20,
     "metadata": {},
     "output_type": "execute_result"
    }
   ],
   "source": [
    "cosine_similarity([result], [queen])"
   ]
  },
  {
   "cell_type": "code",
   "execution_count": null,
   "id": "910fe321-5fa2-4282-a165-942229fa8130",
   "metadata": {},
   "outputs": [],
   "source": []
  }
 ],
 "metadata": {
  "kernelspec": {
   "display_name": "Python 3 (ipykernel)",
   "language": "python",
   "name": "python3"
  },
  "language_info": {
   "codemirror_mode": {
    "name": "ipython",
    "version": 3
   },
   "file_extension": ".py",
   "mimetype": "text/x-python",
   "name": "python",
   "nbconvert_exporter": "python",
   "pygments_lexer": "ipython3",
   "version": "3.10.12"
  }
 },
 "nbformat": 4,
 "nbformat_minor": 5
}
